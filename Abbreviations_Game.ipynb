{
 "cells": [
  {
   "cell_type": "code",
   "execution_count": 10,
   "id": "21b38066-0b43-482c-915f-3c69c11668e8",
   "metadata": {},
   "outputs": [
    {
     "name": "stdout",
     "output_type": "stream",
     "text": [
      "Are you ready for the Abbreviations game!!\n"
     ]
    },
    {
     "name": "stdin",
     "output_type": "stream",
     "text": [
      "Enter 'yes' to continue or 'no' to quit:  no\n"
     ]
    },
    {
     "name": "stdout",
     "output_type": "stream",
     "text": [
      "Bye Bye!!!\n"
     ]
    }
   ],
   "source": [
    "#-- Abbreviations Game\n",
    "\n",
    "print(f\"Are you ready for the Abbreviations game!!\")\n",
    "\n",
    "ask = input(\"Enter 'yes' to continue or 'no' to quit: \")\n",
    "\n",
    "if ask.lower() != \"yes\":\n",
    "    print(f\"Bye Bye!!!\")\n",
    "else:\n",
    "    score = 0\n",
    "\n",
    "    question = input(\"Abbreviation of AIIMS: \")\n",
    "    if question.upper() == \"ALL INDIA INSTITUTE OF MEDICAL SCIENCES\":\n",
    "        print(\"Correct!\")\n",
    "        score += 1\n",
    "    else:\n",
    "        print(\"Incorrect!\")\n",
    "        \n",
    "    question = input(\"Abbreviation of ATM: \")\n",
    "    if question.upper() == \"AUTOMATIC TELLER MACHINE\":\n",
    "        print(\"Correct!\")\n",
    "        score += 1\n",
    "    else:\n",
    "        print(\"Incorrect!\")    \n",
    "    \n",
    "    question = input(\"Abbreviation of BBC: \")\n",
    "    if question.upper() == \"BRITISH BROADCASTING CORPORATION\":\n",
    "        print(\"Correct!\")\n",
    "        score += 1\n",
    "    else:\n",
    "        print(\"Incorrect!\")\n",
    "    \n",
    "    question = input(\"Abbreviation of BSF: \")\n",
    "    if question.upper() == \"BORDER SECURITY FORCE\":\n",
    "        print(\"Correct!\")\n",
    "        score += 1\n",
    "    else:\n",
    "        print(\"Incorrect!\")\n",
    "    \n",
    "    question = input(\"Abbreviation of BSNL: \")\n",
    "    if question.upper() == \"BHARAT SANCHAR NIGAM LTD\":\n",
    "        print(\"Correct!\")\n",
    "        score += 1\n",
    "    else:\n",
    "        print(\"Incorrect!\")\n",
    "    \n",
    "    question = input(\"Abbreviation of CPU: \")\n",
    "    if question.upper() == \"CENTRAL PROCESSING UNIT\":\n",
    "        print(\"Correct!\")\n",
    "        score += 1\n",
    "    else:\n",
    "        print(\"Incorrect!\")\n",
    "    \n",
    "    question = input(\"Abbreviation of GOI: \")\n",
    "    if question.upper() == \"GOVERNMENT OF INDIA\":\n",
    "        print(\"Correct!\")\n",
    "        score += 1\n",
    "    else:\n",
    "        print(\"Incorrect!\")\n",
    "    \n",
    "    question = input(\"Abbreviation of GST: \")\n",
    "    if question.upper() == \"GOODS AND SERVICE TAX\":\n",
    "        print(\"Correct!\")\n",
    "        score += 1\n",
    "    else:\n",
    "        print(\"Incorrect!\")\n",
    "    \n",
    "    question = input(\"Abbreviation of GMT: \")\n",
    "    if question.upper() == \"GREENWICH MEAN TIME\":\n",
    "        print(\"Correct!\")\n",
    "        score += 1\n",
    "    else:\n",
    "        print(\"Incorrect!\")\n",
    "    \n",
    "    question = input(\"Abbreviation of IST: \")\n",
    "    if question.upper() == \"INDIAN STANDARD TIME\":\n",
    "        print(\"Correct!\")\n",
    "        score += 1\n",
    "    else:\n",
    "        print(\"Incorrect!\")\n",
    "    print(f\"Your score out of 10 is {score}\")\n",
    "    print(f\"Your percentage is {((score/10)*100)}%\")\n",
    "    "
   ]
  },
  {
   "cell_type": "code",
   "execution_count": null,
   "id": "bd2767a5-6203-48d1-9a35-db7901113da0",
   "metadata": {},
   "outputs": [],
   "source": []
  }
 ],
 "metadata": {
  "kernelspec": {
   "display_name": "Python 3 (ipykernel)",
   "language": "python",
   "name": "python3"
  },
  "language_info": {
   "codemirror_mode": {
    "name": "ipython",
    "version": 3
   },
   "file_extension": ".py",
   "mimetype": "text/x-python",
   "name": "python",
   "nbconvert_exporter": "python",
   "pygments_lexer": "ipython3",
   "version": "3.12.4"
  }
 },
 "nbformat": 4,
 "nbformat_minor": 5
}
